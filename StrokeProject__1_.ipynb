{
 "cells": [
  {
   "cell_type": "markdown",
   "id": "1c115400",
   "metadata": {},
   "source": [
    "# Solvay Digital Society - Business&Decision Hack - Stroke Predictions"
   ]
  },
  {
   "cell_type": "markdown",
   "id": "d2b97998",
   "metadata": {},
   "source": [
    "##  Comments:\n",
    "\n",
    "* In the Train DS, Gender ( Male / Female / Other )\n",
    "* Once the best model found retrain model on entire training DS\n",
    "* Rather small dataset (+/- 4000 Rows)\n",
    "\n",
    "## Potential complications:\n",
    "\n",
    "* Need to handle NaN values in BMI ==> Delete? Use Mean? Use Median? Other Methods...\n",
    "* Need to handle categorical and numerical values\n",
    "* Unbalanced dataset can mislead models (very few strokes)\n",
    "* They are no \"Other\" gender in the test dataset\n"
   ]
  },
  {
   "cell_type": "code",
   "execution_count": 7,
   "id": "a0d3a8a9",
   "metadata": {},
   "outputs": [],
   "source": [
    "import pandas as pd\n",
    "import seaborn as sns\n",
    "import numpy as np\n",
    "import matplotlib.pyplot as plt\n",
    "from sklearn.model_selection import train_test_split"
   ]
  },
  {
   "cell_type": "code",
   "execution_count": 18,
   "id": "484a8657",
   "metadata": {},
   "outputs": [],
   "source": [
    "TrainDS = pd.read_csv('C:/Users/ljacquesdedixmude/streamlit_SP/Data/training-stroke.csv')\n",
    "TrainDS.drop('id', axis=1, inplace=True)\n",
    "TestDS = pd.read_csv('C:/Users/ljacquesdedixmude/streamlit_SP/Data/testing-stroke.csv')"
   ]
  },
  {
   "cell_type": "code",
   "execution_count": 11,
   "id": "7e7d2284",
   "metadata": {},
   "outputs": [],
   "source": [
    "d2 = pd.get_dummies(TrainDS, columns = ['Gender', 'Married', 'Employment_Type', 'Urban_Rural', 'Smoker'])\n",
    "d3 = pd.get_dummies(TestDS, columns = ['Gender', 'Married', 'Employment_Type', 'Urban_Rural', 'Smoker'])\n",
    "d3.insert(8, \"Gender_Other\", 0)\n",
    "d2 = d2.fillna(28.9)\n",
    "d3 = d3.fillna(28.88)\n",
    "# We replace NaN values with the mean value of the dataset - normally shouldn't bias results "
   ]
  },
  {
   "cell_type": "code",
   "execution_count": 27,
   "id": "0bc59ea2",
   "metadata": {},
   "outputs": [
    {
     "data": {
      "text/html": [
       "<div>\n",
       "<style scoped>\n",
       "    .dataframe tbody tr th:only-of-type {\n",
       "        vertical-align: middle;\n",
       "    }\n",
       "\n",
       "    .dataframe tbody tr th {\n",
       "        vertical-align: top;\n",
       "    }\n",
       "\n",
       "    .dataframe thead th {\n",
       "        text-align: right;\n",
       "    }\n",
       "</style>\n",
       "<table border=\"1\" class=\"dataframe\">\n",
       "  <thead>\n",
       "    <tr style=\"text-align: right;\">\n",
       "      <th></th>\n",
       "      <th>Age</th>\n",
       "      <th>BodyMassIndex</th>\n",
       "      <th>Hypertension</th>\n",
       "      <th>Had_Heart_Disease</th>\n",
       "      <th>Mean_Glucose_Level</th>\n",
       "      <th>Stroke</th>\n",
       "      <th>Gender_Female</th>\n",
       "      <th>Gender_Male</th>\n",
       "      <th>Gender_Other</th>\n",
       "      <th>Married_No</th>\n",
       "      <th>...</th>\n",
       "      <th>Employment_Type_Never_worked</th>\n",
       "      <th>Employment_Type_Private</th>\n",
       "      <th>Employment_Type_Self-employed</th>\n",
       "      <th>Employment_Type_children</th>\n",
       "      <th>Urban_Rural_Rural</th>\n",
       "      <th>Urban_Rural_Urban</th>\n",
       "      <th>Smoker_Unknown</th>\n",
       "      <th>Smoker_formerly smoked</th>\n",
       "      <th>Smoker_never smoked</th>\n",
       "      <th>Smoker_smokes</th>\n",
       "    </tr>\n",
       "  </thead>\n",
       "  <tbody>\n",
       "    <tr>\n",
       "      <th>count</th>\n",
       "      <td>4088.000000</td>\n",
       "      <td>4088.000000</td>\n",
       "      <td>4088.000000</td>\n",
       "      <td>4088.000000</td>\n",
       "      <td>4088.000000</td>\n",
       "      <td>4088.000000</td>\n",
       "      <td>4088.000000</td>\n",
       "      <td>4088.000000</td>\n",
       "      <td>4088.000000</td>\n",
       "      <td>4088.000000</td>\n",
       "      <td>...</td>\n",
       "      <td>4088.000000</td>\n",
       "      <td>4088.000000</td>\n",
       "      <td>4088.000000</td>\n",
       "      <td>4088.000000</td>\n",
       "      <td>4088.000000</td>\n",
       "      <td>4088.000000</td>\n",
       "      <td>4088.000000</td>\n",
       "      <td>4088.000000</td>\n",
       "      <td>4088.000000</td>\n",
       "      <td>4088.000000</td>\n",
       "    </tr>\n",
       "    <tr>\n",
       "      <th>mean</th>\n",
       "      <td>43.382642</td>\n",
       "      <td>28.896355</td>\n",
       "      <td>0.096624</td>\n",
       "      <td>0.054550</td>\n",
       "      <td>106.016849</td>\n",
       "      <td>0.048679</td>\n",
       "      <td>0.586106</td>\n",
       "      <td>0.413650</td>\n",
       "      <td>0.000245</td>\n",
       "      <td>0.340509</td>\n",
       "      <td>...</td>\n",
       "      <td>0.003914</td>\n",
       "      <td>0.580969</td>\n",
       "      <td>0.154354</td>\n",
       "      <td>0.130626</td>\n",
       "      <td>0.490705</td>\n",
       "      <td>0.509295</td>\n",
       "      <td>0.299902</td>\n",
       "      <td>0.172701</td>\n",
       "      <td>0.373532</td>\n",
       "      <td>0.153865</td>\n",
       "    </tr>\n",
       "    <tr>\n",
       "      <th>std</th>\n",
       "      <td>22.505514</td>\n",
       "      <td>7.671973</td>\n",
       "      <td>0.295482</td>\n",
       "      <td>0.227127</td>\n",
       "      <td>44.771715</td>\n",
       "      <td>0.215223</td>\n",
       "      <td>0.492590</td>\n",
       "      <td>0.492547</td>\n",
       "      <td>0.015640</td>\n",
       "      <td>0.473938</td>\n",
       "      <td>...</td>\n",
       "      <td>0.062446</td>\n",
       "      <td>0.493461</td>\n",
       "      <td>0.361332</td>\n",
       "      <td>0.337032</td>\n",
       "      <td>0.499975</td>\n",
       "      <td>0.499975</td>\n",
       "      <td>0.458271</td>\n",
       "      <td>0.378034</td>\n",
       "      <td>0.483801</td>\n",
       "      <td>0.360863</td>\n",
       "    </tr>\n",
       "    <tr>\n",
       "      <th>min</th>\n",
       "      <td>0.080000</td>\n",
       "      <td>10.300000</td>\n",
       "      <td>0.000000</td>\n",
       "      <td>0.000000</td>\n",
       "      <td>55.220000</td>\n",
       "      <td>0.000000</td>\n",
       "      <td>0.000000</td>\n",
       "      <td>0.000000</td>\n",
       "      <td>0.000000</td>\n",
       "      <td>0.000000</td>\n",
       "      <td>...</td>\n",
       "      <td>0.000000</td>\n",
       "      <td>0.000000</td>\n",
       "      <td>0.000000</td>\n",
       "      <td>0.000000</td>\n",
       "      <td>0.000000</td>\n",
       "      <td>0.000000</td>\n",
       "      <td>0.000000</td>\n",
       "      <td>0.000000</td>\n",
       "      <td>0.000000</td>\n",
       "      <td>0.000000</td>\n",
       "    </tr>\n",
       "    <tr>\n",
       "      <th>25%</th>\n",
       "      <td>25.000000</td>\n",
       "      <td>23.800000</td>\n",
       "      <td>0.000000</td>\n",
       "      <td>0.000000</td>\n",
       "      <td>77.520000</td>\n",
       "      <td>0.000000</td>\n",
       "      <td>0.000000</td>\n",
       "      <td>0.000000</td>\n",
       "      <td>0.000000</td>\n",
       "      <td>0.000000</td>\n",
       "      <td>...</td>\n",
       "      <td>0.000000</td>\n",
       "      <td>0.000000</td>\n",
       "      <td>0.000000</td>\n",
       "      <td>0.000000</td>\n",
       "      <td>0.000000</td>\n",
       "      <td>0.000000</td>\n",
       "      <td>0.000000</td>\n",
       "      <td>0.000000</td>\n",
       "      <td>0.000000</td>\n",
       "      <td>0.000000</td>\n",
       "    </tr>\n",
       "    <tr>\n",
       "      <th>50%</th>\n",
       "      <td>45.000000</td>\n",
       "      <td>28.400000</td>\n",
       "      <td>0.000000</td>\n",
       "      <td>0.000000</td>\n",
       "      <td>92.145000</td>\n",
       "      <td>0.000000</td>\n",
       "      <td>1.000000</td>\n",
       "      <td>0.000000</td>\n",
       "      <td>0.000000</td>\n",
       "      <td>0.000000</td>\n",
       "      <td>...</td>\n",
       "      <td>0.000000</td>\n",
       "      <td>1.000000</td>\n",
       "      <td>0.000000</td>\n",
       "      <td>0.000000</td>\n",
       "      <td>0.000000</td>\n",
       "      <td>1.000000</td>\n",
       "      <td>0.000000</td>\n",
       "      <td>0.000000</td>\n",
       "      <td>0.000000</td>\n",
       "      <td>0.000000</td>\n",
       "    </tr>\n",
       "    <tr>\n",
       "      <th>75%</th>\n",
       "      <td>61.000000</td>\n",
       "      <td>32.800000</td>\n",
       "      <td>0.000000</td>\n",
       "      <td>0.000000</td>\n",
       "      <td>114.012500</td>\n",
       "      <td>0.000000</td>\n",
       "      <td>1.000000</td>\n",
       "      <td>1.000000</td>\n",
       "      <td>0.000000</td>\n",
       "      <td>1.000000</td>\n",
       "      <td>...</td>\n",
       "      <td>0.000000</td>\n",
       "      <td>1.000000</td>\n",
       "      <td>0.000000</td>\n",
       "      <td>0.000000</td>\n",
       "      <td>1.000000</td>\n",
       "      <td>1.000000</td>\n",
       "      <td>1.000000</td>\n",
       "      <td>0.000000</td>\n",
       "      <td>1.000000</td>\n",
       "      <td>0.000000</td>\n",
       "    </tr>\n",
       "    <tr>\n",
       "      <th>max</th>\n",
       "      <td>82.000000</td>\n",
       "      <td>97.600000</td>\n",
       "      <td>1.000000</td>\n",
       "      <td>1.000000</td>\n",
       "      <td>271.740000</td>\n",
       "      <td>1.000000</td>\n",
       "      <td>1.000000</td>\n",
       "      <td>1.000000</td>\n",
       "      <td>1.000000</td>\n",
       "      <td>1.000000</td>\n",
       "      <td>...</td>\n",
       "      <td>1.000000</td>\n",
       "      <td>1.000000</td>\n",
       "      <td>1.000000</td>\n",
       "      <td>1.000000</td>\n",
       "      <td>1.000000</td>\n",
       "      <td>1.000000</td>\n",
       "      <td>1.000000</td>\n",
       "      <td>1.000000</td>\n",
       "      <td>1.000000</td>\n",
       "      <td>1.000000</td>\n",
       "    </tr>\n",
       "  </tbody>\n",
       "</table>\n",
       "<p>8 rows × 22 columns</p>\n",
       "</div>"
      ],
      "text/plain": [
       "               Age  BodyMassIndex  Hypertension  Had_Heart_Disease  \\\n",
       "count  4088.000000    4088.000000   4088.000000        4088.000000   \n",
       "mean     43.382642      28.896355      0.096624           0.054550   \n",
       "std      22.505514       7.671973      0.295482           0.227127   \n",
       "min       0.080000      10.300000      0.000000           0.000000   \n",
       "25%      25.000000      23.800000      0.000000           0.000000   \n",
       "50%      45.000000      28.400000      0.000000           0.000000   \n",
       "75%      61.000000      32.800000      0.000000           0.000000   \n",
       "max      82.000000      97.600000      1.000000           1.000000   \n",
       "\n",
       "       Mean_Glucose_Level       Stroke  Gender_Female  Gender_Male  \\\n",
       "count         4088.000000  4088.000000    4088.000000  4088.000000   \n",
       "mean           106.016849     0.048679       0.586106     0.413650   \n",
       "std             44.771715     0.215223       0.492590     0.492547   \n",
       "min             55.220000     0.000000       0.000000     0.000000   \n",
       "25%             77.520000     0.000000       0.000000     0.000000   \n",
       "50%             92.145000     0.000000       1.000000     0.000000   \n",
       "75%            114.012500     0.000000       1.000000     1.000000   \n",
       "max            271.740000     1.000000       1.000000     1.000000   \n",
       "\n",
       "       Gender_Other   Married_No  ...  Employment_Type_Never_worked  \\\n",
       "count   4088.000000  4088.000000  ...                   4088.000000   \n",
       "mean       0.000245     0.340509  ...                      0.003914   \n",
       "std        0.015640     0.473938  ...                      0.062446   \n",
       "min        0.000000     0.000000  ...                      0.000000   \n",
       "25%        0.000000     0.000000  ...                      0.000000   \n",
       "50%        0.000000     0.000000  ...                      0.000000   \n",
       "75%        0.000000     1.000000  ...                      0.000000   \n",
       "max        1.000000     1.000000  ...                      1.000000   \n",
       "\n",
       "       Employment_Type_Private  Employment_Type_Self-employed  \\\n",
       "count              4088.000000                    4088.000000   \n",
       "mean                  0.580969                       0.154354   \n",
       "std                   0.493461                       0.361332   \n",
       "min                   0.000000                       0.000000   \n",
       "25%                   0.000000                       0.000000   \n",
       "50%                   1.000000                       0.000000   \n",
       "75%                   1.000000                       0.000000   \n",
       "max                   1.000000                       1.000000   \n",
       "\n",
       "       Employment_Type_children  Urban_Rural_Rural  Urban_Rural_Urban  \\\n",
       "count               4088.000000        4088.000000        4088.000000   \n",
       "mean                   0.130626           0.490705           0.509295   \n",
       "std                    0.337032           0.499975           0.499975   \n",
       "min                    0.000000           0.000000           0.000000   \n",
       "25%                    0.000000           0.000000           0.000000   \n",
       "50%                    0.000000           0.000000           1.000000   \n",
       "75%                    0.000000           1.000000           1.000000   \n",
       "max                    1.000000           1.000000           1.000000   \n",
       "\n",
       "       Smoker_Unknown  Smoker_formerly smoked  Smoker_never smoked  \\\n",
       "count     4088.000000             4088.000000          4088.000000   \n",
       "mean         0.299902                0.172701             0.373532   \n",
       "std          0.458271                0.378034             0.483801   \n",
       "min          0.000000                0.000000             0.000000   \n",
       "25%          0.000000                0.000000             0.000000   \n",
       "50%          0.000000                0.000000             0.000000   \n",
       "75%          1.000000                0.000000             1.000000   \n",
       "max          1.000000                1.000000             1.000000   \n",
       "\n",
       "       Smoker_smokes  \n",
       "count    4088.000000  \n",
       "mean        0.153865  \n",
       "std         0.360863  \n",
       "min         0.000000  \n",
       "25%         0.000000  \n",
       "50%         0.000000  \n",
       "75%         0.000000  \n",
       "max         1.000000  \n",
       "\n",
       "[8 rows x 22 columns]"
      ]
     },
     "execution_count": 27,
     "metadata": {},
     "output_type": "execute_result"
    }
   ],
   "source": [
    "d2.describe()"
   ]
  },
  {
   "cell_type": "code",
   "execution_count": 24,
   "id": "3ca6b346",
   "metadata": {},
   "outputs": [
    {
     "data": {
      "text/html": [
       "<div>\n",
       "<style scoped>\n",
       "    .dataframe tbody tr th:only-of-type {\n",
       "        vertical-align: middle;\n",
       "    }\n",
       "\n",
       "    .dataframe tbody tr th {\n",
       "        vertical-align: top;\n",
       "    }\n",
       "\n",
       "    .dataframe thead th {\n",
       "        text-align: right;\n",
       "    }\n",
       "</style>\n",
       "<table border=\"1\" class=\"dataframe\">\n",
       "  <thead>\n",
       "    <tr style=\"text-align: right;\">\n",
       "      <th></th>\n",
       "      <th>Age</th>\n",
       "      <th>BodyMassIndex</th>\n",
       "      <th>Hypertension</th>\n",
       "      <th>Had_Heart_Disease</th>\n",
       "      <th>Mean_Glucose_Level</th>\n",
       "      <th>Gender_Female</th>\n",
       "      <th>Gender_Male</th>\n",
       "      <th>Gender_Other</th>\n",
       "      <th>Married_No</th>\n",
       "      <th>Married_Yes</th>\n",
       "      <th>...</th>\n",
       "      <th>Employment_Type_Never_worked</th>\n",
       "      <th>Employment_Type_Private</th>\n",
       "      <th>Employment_Type_Self-employed</th>\n",
       "      <th>Employment_Type_children</th>\n",
       "      <th>Urban_Rural_Rural</th>\n",
       "      <th>Urban_Rural_Urban</th>\n",
       "      <th>Smoker_Unknown</th>\n",
       "      <th>Smoker_formerly smoked</th>\n",
       "      <th>Smoker_never smoked</th>\n",
       "      <th>Smoker_smokes</th>\n",
       "    </tr>\n",
       "  </thead>\n",
       "  <tbody>\n",
       "    <tr>\n",
       "      <th>count</th>\n",
       "      <td>1022.000000</td>\n",
       "      <td>1022.000000</td>\n",
       "      <td>1022.000000</td>\n",
       "      <td>1022.000000</td>\n",
       "      <td>1022.000000</td>\n",
       "      <td>1022.000000</td>\n",
       "      <td>1022.000000</td>\n",
       "      <td>1022.0</td>\n",
       "      <td>1022.000000</td>\n",
       "      <td>1022.000000</td>\n",
       "      <td>...</td>\n",
       "      <td>1022.000000</td>\n",
       "      <td>1022.000000</td>\n",
       "      <td>1022.000000</td>\n",
       "      <td>1022.000000</td>\n",
       "      <td>1022.000000</td>\n",
       "      <td>1022.000000</td>\n",
       "      <td>1022.000000</td>\n",
       "      <td>1022.000000</td>\n",
       "      <td>1022.000000</td>\n",
       "      <td>1022.000000</td>\n",
       "    </tr>\n",
       "    <tr>\n",
       "      <th>mean</th>\n",
       "      <td>42.602505</td>\n",
       "      <td>28.881292</td>\n",
       "      <td>0.100783</td>\n",
       "      <td>0.051859</td>\n",
       "      <td>106.670988</td>\n",
       "      <td>0.585127</td>\n",
       "      <td>0.414873</td>\n",
       "      <td>0.0</td>\n",
       "      <td>0.357143</td>\n",
       "      <td>0.642857</td>\n",
       "      <td>...</td>\n",
       "      <td>0.005871</td>\n",
       "      <td>0.538160</td>\n",
       "      <td>0.183953</td>\n",
       "      <td>0.149706</td>\n",
       "      <td>0.497065</td>\n",
       "      <td>0.502935</td>\n",
       "      <td>0.311155</td>\n",
       "      <td>0.175147</td>\n",
       "      <td>0.357143</td>\n",
       "      <td>0.156556</td>\n",
       "    </tr>\n",
       "    <tr>\n",
       "      <th>std</th>\n",
       "      <td>23.036795</td>\n",
       "      <td>7.805111</td>\n",
       "      <td>0.301188</td>\n",
       "      <td>0.221851</td>\n",
       "      <td>47.294603</td>\n",
       "      <td>0.492941</td>\n",
       "      <td>0.492941</td>\n",
       "      <td>0.0</td>\n",
       "      <td>0.479392</td>\n",
       "      <td>0.479392</td>\n",
       "      <td>...</td>\n",
       "      <td>0.076434</td>\n",
       "      <td>0.498786</td>\n",
       "      <td>0.387636</td>\n",
       "      <td>0.356958</td>\n",
       "      <td>0.500236</td>\n",
       "      <td>0.500236</td>\n",
       "      <td>0.463193</td>\n",
       "      <td>0.380279</td>\n",
       "      <td>0.479392</td>\n",
       "      <td>0.363559</td>\n",
       "    </tr>\n",
       "    <tr>\n",
       "      <th>min</th>\n",
       "      <td>0.160000</td>\n",
       "      <td>14.000000</td>\n",
       "      <td>0.000000</td>\n",
       "      <td>0.000000</td>\n",
       "      <td>55.120000</td>\n",
       "      <td>0.000000</td>\n",
       "      <td>0.000000</td>\n",
       "      <td>0.0</td>\n",
       "      <td>0.000000</td>\n",
       "      <td>0.000000</td>\n",
       "      <td>...</td>\n",
       "      <td>0.000000</td>\n",
       "      <td>0.000000</td>\n",
       "      <td>0.000000</td>\n",
       "      <td>0.000000</td>\n",
       "      <td>0.000000</td>\n",
       "      <td>0.000000</td>\n",
       "      <td>0.000000</td>\n",
       "      <td>0.000000</td>\n",
       "      <td>0.000000</td>\n",
       "      <td>0.000000</td>\n",
       "    </tr>\n",
       "    <tr>\n",
       "      <th>25%</th>\n",
       "      <td>24.000000</td>\n",
       "      <td>23.800000</td>\n",
       "      <td>0.000000</td>\n",
       "      <td>0.000000</td>\n",
       "      <td>76.252500</td>\n",
       "      <td>0.000000</td>\n",
       "      <td>0.000000</td>\n",
       "      <td>0.0</td>\n",
       "      <td>0.000000</td>\n",
       "      <td>0.000000</td>\n",
       "      <td>...</td>\n",
       "      <td>0.000000</td>\n",
       "      <td>0.000000</td>\n",
       "      <td>0.000000</td>\n",
       "      <td>0.000000</td>\n",
       "      <td>0.000000</td>\n",
       "      <td>0.000000</td>\n",
       "      <td>0.000000</td>\n",
       "      <td>0.000000</td>\n",
       "      <td>0.000000</td>\n",
       "      <td>0.000000</td>\n",
       "    </tr>\n",
       "    <tr>\n",
       "      <th>50%</th>\n",
       "      <td>44.000000</td>\n",
       "      <td>28.100000</td>\n",
       "      <td>0.000000</td>\n",
       "      <td>0.000000</td>\n",
       "      <td>90.350000</td>\n",
       "      <td>1.000000</td>\n",
       "      <td>0.000000</td>\n",
       "      <td>0.0</td>\n",
       "      <td>0.000000</td>\n",
       "      <td>1.000000</td>\n",
       "      <td>...</td>\n",
       "      <td>0.000000</td>\n",
       "      <td>1.000000</td>\n",
       "      <td>0.000000</td>\n",
       "      <td>0.000000</td>\n",
       "      <td>0.000000</td>\n",
       "      <td>1.000000</td>\n",
       "      <td>0.000000</td>\n",
       "      <td>0.000000</td>\n",
       "      <td>0.000000</td>\n",
       "      <td>0.000000</td>\n",
       "    </tr>\n",
       "    <tr>\n",
       "      <th>75%</th>\n",
       "      <td>61.000000</td>\n",
       "      <td>32.700000</td>\n",
       "      <td>0.000000</td>\n",
       "      <td>0.000000</td>\n",
       "      <td>114.657500</td>\n",
       "      <td>1.000000</td>\n",
       "      <td>1.000000</td>\n",
       "      <td>0.0</td>\n",
       "      <td>1.000000</td>\n",
       "      <td>1.000000</td>\n",
       "      <td>...</td>\n",
       "      <td>0.000000</td>\n",
       "      <td>1.000000</td>\n",
       "      <td>0.000000</td>\n",
       "      <td>0.000000</td>\n",
       "      <td>1.000000</td>\n",
       "      <td>1.000000</td>\n",
       "      <td>1.000000</td>\n",
       "      <td>0.000000</td>\n",
       "      <td>1.000000</td>\n",
       "      <td>0.000000</td>\n",
       "    </tr>\n",
       "    <tr>\n",
       "      <th>max</th>\n",
       "      <td>82.000000</td>\n",
       "      <td>64.400000</td>\n",
       "      <td>1.000000</td>\n",
       "      <td>1.000000</td>\n",
       "      <td>267.600000</td>\n",
       "      <td>1.000000</td>\n",
       "      <td>1.000000</td>\n",
       "      <td>0.0</td>\n",
       "      <td>1.000000</td>\n",
       "      <td>1.000000</td>\n",
       "      <td>...</td>\n",
       "      <td>1.000000</td>\n",
       "      <td>1.000000</td>\n",
       "      <td>1.000000</td>\n",
       "      <td>1.000000</td>\n",
       "      <td>1.000000</td>\n",
       "      <td>1.000000</td>\n",
       "      <td>1.000000</td>\n",
       "      <td>1.000000</td>\n",
       "      <td>1.000000</td>\n",
       "      <td>1.000000</td>\n",
       "    </tr>\n",
       "  </tbody>\n",
       "</table>\n",
       "<p>8 rows × 21 columns</p>\n",
       "</div>"
      ],
      "text/plain": [
       "               Age  BodyMassIndex  Hypertension  Had_Heart_Disease  \\\n",
       "count  1022.000000    1022.000000   1022.000000        1022.000000   \n",
       "mean     42.602505      28.881292      0.100783           0.051859   \n",
       "std      23.036795       7.805111      0.301188           0.221851   \n",
       "min       0.160000      14.000000      0.000000           0.000000   \n",
       "25%      24.000000      23.800000      0.000000           0.000000   \n",
       "50%      44.000000      28.100000      0.000000           0.000000   \n",
       "75%      61.000000      32.700000      0.000000           0.000000   \n",
       "max      82.000000      64.400000      1.000000           1.000000   \n",
       "\n",
       "       Mean_Glucose_Level  Gender_Female  Gender_Male  Gender_Other  \\\n",
       "count         1022.000000    1022.000000  1022.000000        1022.0   \n",
       "mean           106.670988       0.585127     0.414873           0.0   \n",
       "std             47.294603       0.492941     0.492941           0.0   \n",
       "min             55.120000       0.000000     0.000000           0.0   \n",
       "25%             76.252500       0.000000     0.000000           0.0   \n",
       "50%             90.350000       1.000000     0.000000           0.0   \n",
       "75%            114.657500       1.000000     1.000000           0.0   \n",
       "max            267.600000       1.000000     1.000000           0.0   \n",
       "\n",
       "        Married_No  Married_Yes  ...  Employment_Type_Never_worked  \\\n",
       "count  1022.000000  1022.000000  ...                   1022.000000   \n",
       "mean      0.357143     0.642857  ...                      0.005871   \n",
       "std       0.479392     0.479392  ...                      0.076434   \n",
       "min       0.000000     0.000000  ...                      0.000000   \n",
       "25%       0.000000     0.000000  ...                      0.000000   \n",
       "50%       0.000000     1.000000  ...                      0.000000   \n",
       "75%       1.000000     1.000000  ...                      0.000000   \n",
       "max       1.000000     1.000000  ...                      1.000000   \n",
       "\n",
       "       Employment_Type_Private  Employment_Type_Self-employed  \\\n",
       "count              1022.000000                    1022.000000   \n",
       "mean                  0.538160                       0.183953   \n",
       "std                   0.498786                       0.387636   \n",
       "min                   0.000000                       0.000000   \n",
       "25%                   0.000000                       0.000000   \n",
       "50%                   1.000000                       0.000000   \n",
       "75%                   1.000000                       0.000000   \n",
       "max                   1.000000                       1.000000   \n",
       "\n",
       "       Employment_Type_children  Urban_Rural_Rural  Urban_Rural_Urban  \\\n",
       "count               1022.000000        1022.000000        1022.000000   \n",
       "mean                   0.149706           0.497065           0.502935   \n",
       "std                    0.356958           0.500236           0.500236   \n",
       "min                    0.000000           0.000000           0.000000   \n",
       "25%                    0.000000           0.000000           0.000000   \n",
       "50%                    0.000000           0.000000           1.000000   \n",
       "75%                    0.000000           1.000000           1.000000   \n",
       "max                    1.000000           1.000000           1.000000   \n",
       "\n",
       "       Smoker_Unknown  Smoker_formerly smoked  Smoker_never smoked  \\\n",
       "count     1022.000000             1022.000000          1022.000000   \n",
       "mean         0.311155                0.175147             0.357143   \n",
       "std          0.463193                0.380279             0.479392   \n",
       "min          0.000000                0.000000             0.000000   \n",
       "25%          0.000000                0.000000             0.000000   \n",
       "50%          0.000000                0.000000             0.000000   \n",
       "75%          1.000000                0.000000             1.000000   \n",
       "max          1.000000                1.000000             1.000000   \n",
       "\n",
       "       Smoker_smokes  \n",
       "count    1022.000000  \n",
       "mean        0.156556  \n",
       "std         0.363559  \n",
       "min         0.000000  \n",
       "25%         0.000000  \n",
       "50%         0.000000  \n",
       "75%         0.000000  \n",
       "max         1.000000  \n",
       "\n",
       "[8 rows x 21 columns]"
      ]
     },
     "execution_count": 24,
     "metadata": {},
     "output_type": "execute_result"
    }
   ],
   "source": [
    "d3.describe()"
   ]
  },
  {
   "cell_type": "code",
   "execution_count": 28,
   "id": "a16eb402",
   "metadata": {},
   "outputs": [],
   "source": [
    "label = 'Stroke'\n",
    "features = [column for column in d2.columns if column != label]\n",
    "X = d2[features]\n",
    "Y = d2[label]"
   ]
  },
  {
   "cell_type": "code",
   "execution_count": 29,
   "id": "02b7832d",
   "metadata": {},
   "outputs": [],
   "source": [
    "# We split the train dataset with 70% for training and 30% for testing\n",
    "X_train, X_test, y_train, y_test = train_test_split(X, Y, test_size=0.3)"
   ]
  },
  {
   "cell_type": "markdown",
   "id": "a4a63698",
   "metadata": {},
   "source": [
    "## Model #1 Random Forest Classifier"
   ]
  },
  {
   "cell_type": "code",
   "execution_count": 30,
   "id": "fbc3a1d0",
   "metadata": {},
   "outputs": [],
   "source": [
    "from sklearn.metrics import roc_curve, roc_auc_score\n",
    "from sklearn.metrics import accuracy_score, balanced_accuracy_score, precision_score, f1_score, confusion_matrix, recall_score, mean_squared_error\n",
    "from sklearn.tree import DecisionTreeClassifier\n",
    "from sklearn.ensemble import RandomForestClassifier\n",
    "from sklearn.model_selection import KFold, cross_val_score"
   ]
  },
  {
   "cell_type": "code",
   "execution_count": 31,
   "id": "1e72a642",
   "metadata": {},
   "outputs": [
    {
     "name": "stdout",
     "output_type": "stream",
     "text": [
      "0.8189352812004391\n"
     ]
    },
    {
     "name": "stderr",
     "output_type": "stream",
     "text": [
      "c:\\Users\\ljacquesdedixmude\\AppData\\Local\\Programs\\Python\\Python310\\lib\\site-packages\\sklearn\\ensemble\\_forest.py:427: FutureWarning: `max_features='auto'` has been deprecated in 1.1 and will be removed in 1.3. To keep the past behaviour, explicitly set `max_features='sqrt'` or remove this parameter as it is also the default value for RandomForestClassifiers and ExtraTreesClassifiers.\n",
      "  warn(\n"
     ]
    }
   ],
   "source": [
    "RFC = RandomForestClassifier(bootstrap=True, max_features='auto',min_samples_split = 30, min_samples_leaf = 4, n_estimators=10)\n",
    "RFC.fit(X_train, y_train)\n",
    "print(roc_auc_score(y_test, RFC.predict_proba(X_test)[:, 1]))"
   ]
  },
  {
   "cell_type": "code",
   "execution_count": 32,
   "id": "97fa8bd3",
   "metadata": {},
   "outputs": [
    {
     "data": {
      "text/plain": [
       "0.5"
      ]
     },
     "execution_count": 32,
     "metadata": {},
     "output_type": "execute_result"
    }
   ],
   "source": [
    "balanced_accuracy_score(y_test, RFC.predict(X_test))"
   ]
  },
  {
   "cell_type": "code",
   "execution_count": 33,
   "id": "b973ff8f",
   "metadata": {},
   "outputs": [],
   "source": [
    "RFC_fpr, RFC_tpr, RFC_thresholds = roc_curve(y_test, RFC.predict_proba(X_test)[:,1])"
   ]
  },
  {
   "cell_type": "code",
   "execution_count": 34,
   "id": "548c4753",
   "metadata": {},
   "outputs": [
    {
     "name": "stdout",
     "output_type": "stream",
     "text": [
      "Forest Algo ROC AUC: 0.8189352812004391\n"
     ]
    },
    {
     "data": {
      "image/png": "[encoded data removed]",
      "text/plain": [
       "<Figure size 800x800 with 1 Axes>"
      ]
     },
     "metadata": {},
     "output_type": "display_data"
    }
   ],
   "source": [
    "fig, ax = plt.subplots(figsize=(8,8))\n",
    "ax.plot(RFC_fpr, RFC_tpr, label='Forest Algorithm')\n",
    "ax.set_xlabel('False Positive Rate')\n",
    "ax.set_ylabel('True Positive Rate')\n",
    "ax.legend();\n",
    "print(\"Forest Algo ROC AUC:\", roc_auc_score(y_test, RFC.predict_proba(X_test)[:, 1]))"
   ]
  },
  {
   "cell_type": "code",
   "execution_count": 35,
   "id": "739833ed",
   "metadata": {},
   "outputs": [
    {
     "name": "stdout",
     "output_type": "stream",
     "text": [
      "Confusion matrix:\n",
      " [[1171    0]\n",
      " [  56    0]]\n"
     ]
    },
    {
     "name": "stderr",
     "output_type": "stream",
     "text": [
      "C:\\Users\\ljacquesdedixmude\\AppData\\Local\\Temp\\ipykernel_22756\\2477466114.py:9: UserWarning: FixedFormatter should only be used together with FixedLocator\n",
      "  ax.set_xticklabels([''] + labels)\n",
      "C:\\Users\\ljacquesdedixmude\\AppData\\Local\\Temp\\ipykernel_22756\\2477466114.py:10: UserWarning: FixedFormatter should only be used together with FixedLocator\n",
      "  ax.set_yticklabels([''] + labels)\n"
     ]
    },
    {
     "data": {
      "image/png": "[encoded data removed]",
      "text/plain": [
       "<Figure size 640x480 with 2 Axes>"
      ]
     },
     "metadata": {},
     "output_type": "display_data"
    }
   ],
   "source": [
    "conf_mat = confusion_matrix(y_true=y_test, y_pred=RFC.predict(X_test))\n",
    "print('Confusion matrix:\\n', conf_mat)\n",
    "\n",
    "labels = ['0', '1']\n",
    "fig = plt.figure()\n",
    "ax = fig.add_subplot(111)\n",
    "cax = ax.matshow(conf_mat, cmap=plt.cm.Blues)\n",
    "fig.colorbar(cax)\n",
    "ax.set_xticklabels([''] + labels)\n",
    "ax.set_yticklabels([''] + labels)\n",
    "plt.xlabel('Predicted')\n",
    "plt.ylabel('Expected')\n",
    "plt.show()"
   ]
  },
  {
   "cell_type": "markdown",
   "id": "5198e7ea",
   "metadata": {},
   "source": [
    "### Problem: Model always predict no Stroke\n",
    "\n",
    "* Generic problem with unbalanced dataset ==> Model trained to always predict noStroke with will most of the time be accurate"
   ]
  },
  {
   "cell_type": "markdown",
   "id": "3f425052",
   "metadata": {},
   "source": [
    "## Hyper Parameter Tuning\n",
    " \n",
    "* We can use a gridsearch to find the best hyperparameter to our RandomForest Classifier Model"
   ]
  },
  {
   "cell_type": "code",
   "execution_count": 15,
   "id": "0767fb4f",
   "metadata": {},
   "outputs": [
    {
     "name": "stdout",
     "output_type": "stream",
     "text": [
      "{'n_estimators': [800, 1000, 1200], 'max_features': ['sqrt'], 'max_depth': [30, 35, 40, 45, None], 'min_samples_split': [40, 50, 60, 70, 80, 90], 'min_samples_leaf': [12, 14, 16, 18], 'bootstrap': [True]}\n"
     ]
    }
   ],
   "source": [
    "n_estimators = [800,1000,1200]\n",
    "max_features = ['sqrt']\n",
    "max_depth = [30,35,40,45]\n",
    "max_depth.append(None)\n",
    "min_samples_split = [40, 50, 60, 70, 80, 90]\n",
    "min_samples_leaf = [12,14,16,18]\n",
    "bootstrap = [True]\n",
    "# Create the random grid\n",
    "random_grid = {'n_estimators': n_estimators,\n",
    "               'max_features': max_features,\n",
    "               'max_depth': max_depth,\n",
    "               'min_samples_split': min_samples_split,\n",
    "               'min_samples_leaf': min_samples_leaf,\n",
    "               'bootstrap': bootstrap}\n",
    "print(random_grid)"
   ]
  },
  {
   "cell_type": "code",
   "execution_count": 16,
   "id": "a2fb8a0a",
   "metadata": {},
   "outputs": [
    {
     "data": {
      "text/plain": [
       "RandomizedSearchCV(cv=2, estimator=RandomForestClassifier(), n_iter=20,\n",
       "                   n_jobs=-1,\n",
       "                   param_distributions={'bootstrap': [True],\n",
       "                                        'max_depth': [30, 35, 40, 45, None],\n",
       "                                        'max_features': ['sqrt'],\n",
       "                                        'min_samples_leaf': [12, 14, 16, 18],\n",
       "                                        'min_samples_split': [40, 50, 60, 70,\n",
       "                                                              80, 90],\n",
       "                                        'n_estimators': [800, 1000, 1200]},\n",
       "                   random_state=0, scoring='roc_auc')"
      ]
     },
     "execution_count": 16,
     "metadata": {},
     "output_type": "execute_result"
    }
   ],
   "source": [
    "RF=RandomForestClassifier()\n",
    "from sklearn.model_selection import RandomizedSearchCV\n",
    "RFCV = RandomizedSearchCV(RF, random_grid, random_state=0, n_jobs=-1, cv=2, scoring='roc_auc', n_iter=20)\n",
    "RFCV.fit(X_train, y_train)\n",
    "#Very time consuming to run the GridSearch !"
   ]
  },
  {
   "cell_type": "code",
   "execution_count": 17,
   "id": "3a9af48b",
   "metadata": {},
   "outputs": [
    {
     "name": "stdout",
     "output_type": "stream",
     "text": [
      "Best parameters found:\n",
      " {'n_estimators': 1000, 'min_samples_split': 70, 'min_samples_leaf': 18, 'max_features': 'sqrt', 'max_depth': 40, 'bootstrap': True}\n"
     ]
    },
    {
     "data": {
      "text/plain": [
       "0.8214534478755514"
      ]
     },
     "execution_count": 17,
     "metadata": {},
     "output_type": "execute_result"
    }
   ],
   "source": [
    "print('Best parameters found:\\n', RFCV.best_params_)\n",
    "roc_auc_score(y_test, RFCV.predict_proba(X_test)[:, 1])"
   ]
  },
  {
   "cell_type": "code",
   "execution_count": 18,
   "id": "606d3c83",
   "metadata": {},
   "outputs": [
    {
     "name": "stdout",
     "output_type": "stream",
     "text": [
      "Confusion matrix:\n",
      " [[1168    0]\n",
      " [  59    0]]\n"
     ]
    },
    {
     "name": "stderr",
     "output_type": "stream",
     "text": [
      "C:\\Users\\ljacquesdedixmude\\AppData\\Local\\Temp\\ipykernel_8912\\1552204575.py:9: UserWarning: FixedFormatter should only be used together with FixedLocator\n",
      "  ax.set_xticklabels([''] + labels)\n",
      "C:\\Users\\ljacquesdedixmude\\AppData\\Local\\Temp\\ipykernel_8912\\1552204575.py:10: UserWarning: FixedFormatter should only be used together with FixedLocator\n",
      "  ax.set_yticklabels([''] + labels)\n"
     ]
    },
    {
     "data": {
      "image/png": "[encoded data removed]",
      "text/plain": [
       "<Figure size 432x288 with 2 Axes>"
      ]
     },
     "metadata": {
      "needs_background": "light"
     },
     "output_type": "display_data"
    }
   ],
   "source": [
    "conf_mat = confusion_matrix(y_true=y_test, y_pred=RFCV.predict(X_test))\n",
    "print('Confusion matrix:\\n', conf_mat)\n",
    "\n",
    "labels = ['0', '1']\n",
    "fig = plt.figure()\n",
    "ax = fig.add_subplot(111)\n",
    "cax = ax.matshow(conf_mat, cmap=plt.cm.Blues)\n",
    "fig.colorbar(cax)\n",
    "ax.set_xticklabels([''] + labels)\n",
    "ax.set_yticklabels([''] + labels)\n",
    "plt.xlabel('Predicted')\n",
    "plt.ylabel('Expected')\n",
    "plt.show()"
   ]
  },
  {
   "cell_type": "code",
   "execution_count": 19,
   "id": "0b631669",
   "metadata": {},
   "outputs": [
    {
     "name": "stdout",
     "output_type": "stream",
     "text": [
      "0.8202345019735314\n"
     ]
    }
   ],
   "source": [
    "# Best params from gridsearch\n",
    "# {'n_estimators': 1000, 'min_samples_split': 90, 'min_samples_leaf': 14, 'max_features': 'sqrt', 'max_depth': 35, 'bootstrap': True}\n",
    "\n",
    "FA1 = RandomForestClassifier(bootstrap=True, max_features='sqrt',min_samples_split = 90, min_samples_leaf = 14, n_estimators=1000, max_depth=35)\n",
    "FA1.fit(X_train, y_train)\n",
    "print(roc_auc_score(y_test, FA1.predict_proba(X_test)[:, 1]))"
   ]
  },
  {
   "cell_type": "code",
   "execution_count": 49,
   "id": "09e6238c",
   "metadata": {},
   "outputs": [],
   "source": [
    "testid = d3['id']\n",
    "d3.drop('id', axis=1, inplace=True)"
   ]
  },
  {
   "cell_type": "code",
   "execution_count": 40,
   "id": "ab2f636d",
   "metadata": {},
   "outputs": [
    {
     "ename": "NameError",
     "evalue": "name 'FA1' is not defined",
     "output_type": "error",
     "traceback": [
      "\u001b[1;31m---------------------------------------------------------------------------\u001b[0m",
      "\u001b[1;31mNameError\u001b[0m                                 Traceback (most recent call last)",
      "Input \u001b[1;32mIn [40]\u001b[0m, in \u001b[0;36m<cell line: 1>\u001b[1;34m()\u001b[0m\n\u001b[1;32m----> 1\u001b[0m preds \u001b[38;5;241m=\u001b[39m \u001b[43mFA1\u001b[49m\u001b[38;5;241m.\u001b[39mpredict_proba(d3)[:, \u001b[38;5;241m1\u001b[39m]\n\u001b[0;32m      2\u001b[0m preds2 \u001b[38;5;241m=\u001b[39m preds\u001b[38;5;241m.\u001b[39mtolist()\n\u001b[0;32m      3\u001b[0m resultDF \u001b[38;5;241m=\u001b[39m pd\u001b[38;5;241m.\u001b[39mDataFrame ({\u001b[38;5;124m'\u001b[39m\u001b[38;5;124mid\u001b[39m\u001b[38;5;124m'\u001b[39m:testid, \u001b[38;5;124m'\u001b[39m\u001b[38;5;124mStroke\u001b[39m\u001b[38;5;124m'\u001b[39m:preds2})\n",
      "\u001b[1;31mNameError\u001b[0m: name 'FA1' is not defined"
     ]
    }
   ],
   "source": [
    "preds = FA1.predict_proba(d3)[:, 1]\n",
    "preds2 = preds.tolist()\n",
    "resultDF = pd.DataFrame ({'id':testid, 'Stroke':preds2})\n",
    "resultDF.to_csv('result.csv', index=False)\n",
    "print(resultDF)"
   ]
  },
  {
   "cell_type": "markdown",
   "id": "d1bedeaa",
   "metadata": {},
   "source": [
    "## We can use entire Training Set to Fit our Model !"
   ]
  },
  {
   "cell_type": "code",
   "execution_count": 24,
   "id": "f2b69de3",
   "metadata": {},
   "outputs": [
    {
     "data": {
      "text/plain": [
       "count    4088.000000\n",
       "mean        0.048679\n",
       "std         0.215223\n",
       "min         0.000000\n",
       "25%         0.000000\n",
       "50%         0.000000\n",
       "75%         0.000000\n",
       "max         1.000000\n",
       "Name: Stroke, dtype: float64"
      ]
     },
     "execution_count": 24,
     "metadata": {},
     "output_type": "execute_result"
    }
   ],
   "source": [
    "Y.describe()"
   ]
  },
  {
   "cell_type": "code",
   "execution_count": 25,
   "id": "dbbe94de",
   "metadata": {},
   "outputs": [
    {
     "name": "stdout",
     "output_type": "stream",
     "text": [
      "0.9023682377524959\n"
     ]
    }
   ],
   "source": [
    "FA2 = RandomForestClassifier(bootstrap=True, max_features='sqrt',min_samples_split = 60, min_samples_leaf = 18, n_estimators=800)\n",
    "FA2.fit(X, Y)\n",
    "print(roc_auc_score(y_test, FA2.predict_proba(X_test)[:, 1]))"
   ]
  },
  {
   "cell_type": "code",
   "execution_count": 26,
   "id": "60a15391",
   "metadata": {},
   "outputs": [],
   "source": [
    "preds = FA2.predict_proba(d3)[:, 1]\n",
    "preds2 = preds.tolist()\n",
    "resultDF2 = pd.DataFrame ({'id':testid, 'Stroke':preds2})\n",
    "resultDF2.to_csv('result2.csv', index=False)"
   ]
  },
  {
   "cell_type": "code",
   "execution_count": 27,
   "id": "4647d4b5",
   "metadata": {},
   "outputs": [
    {
     "name": "stdout",
     "output_type": "stream",
     "text": [
      "                                    id    Stroke\n",
      "0     07d9152e686ddb50c5330f7f9c1c58bc  0.189726\n",
      "1     2f0bf07b716733d56ffa0b68cfe3823f  0.059831\n",
      "2     d63fbf8c3173730f82b150c5ef38b8ff  0.065165\n",
      "3     d96988b88c76419fad9677dcd6adb947  0.000833\n",
      "4     142536b9b535b78e681c11b0195d962f  0.000283\n",
      "...                                ...       ...\n",
      "1017  da6ea77475918a3d83c7e49223d453cc  0.038321\n",
      "1018  8686fa633cfb5f49a0609122b9e4140b  0.023329\n",
      "1019  b294fccdfe95bc7f7dd813216a821a76  0.013088\n",
      "1020  4cabd4062d563c8027e488a337c34d28  0.013247\n",
      "1021  6917e6014aa45687457b8e6cf3713515  0.006194\n",
      "\n",
      "[1022 rows x 2 columns]\n"
     ]
    }
   ],
   "source": [
    "print(resultDF2)"
   ]
  },
  {
   "cell_type": "code",
   "execution_count": 28,
   "id": "d4415f88",
   "metadata": {},
   "outputs": [],
   "source": [
    "# Fitting the model on the entire dataset (obviously) improves the ROCAUC score \n",
    "# But it didn't improve the score on kaggle"
   ]
  },
  {
   "cell_type": "markdown",
   "id": "b132a1f7",
   "metadata": {},
   "source": [
    "## Gradient Boosting Classifier"
   ]
  },
  {
   "cell_type": "code",
   "execution_count": 17,
   "id": "d77cd819",
   "metadata": {},
   "outputs": [],
   "source": [
    "from sklearn.ensemble import GradientBoostingClassifier"
   ]
  },
  {
   "cell_type": "code",
   "execution_count": 18,
   "id": "2ffbe096",
   "metadata": {},
   "outputs": [],
   "source": [
    "clf = GradientBoostingClassifier(n_estimators=100, learning_rate=1.0,   \n",
    "    max_depth=1, random_state=0).fit(X_train, y_train)"
   ]
  },
  {
   "cell_type": "code",
   "execution_count": 19,
   "id": "c55b2aed",
   "metadata": {},
   "outputs": [
    {
     "data": {
      "text/plain": [
       "0.517164347015525"
      ]
     },
     "execution_count": 19,
     "metadata": {},
     "output_type": "execute_result"
    }
   ],
   "source": [
    "balanced_accuracy_score(y_test, clf.predict(X_test))"
   ]
  },
  {
   "cell_type": "code",
   "execution_count": 20,
   "id": "7ae652bd",
   "metadata": {},
   "outputs": [],
   "source": [
    "RFC_fpr, RFC_tpr, RFC_thresholds = roc_curve(y_test, clf.predict_proba(X_test)[:,1])"
   ]
  },
  {
   "cell_type": "code",
   "execution_count": 23,
   "id": "d7535f84",
   "metadata": {},
   "outputs": [
    {
     "name": "stdout",
     "output_type": "stream",
     "text": [
      "Forest Algo ROC AUC: 0.8334994053550191\n"
     ]
    },
    {
     "data": {
      "image/png": "[encoded data removed]",
      "text/plain": [
       "<Figure size 576x576 with 1 Axes>"
      ]
     },
     "metadata": {
      "needs_background": "light"
     },
     "output_type": "display_data"
    }
   ],
   "source": [
    "fig, ax = plt.subplots(figsize=(8,8))\n",
    "ax.plot(RFC_fpr, RFC_tpr, label='Forest Algorithm')\n",
    "ax.set_xlabel('False Positive Rate')\n",
    "ax.set_ylabel('True Positive Rate')\n",
    "ax.legend();\n",
    "print(\"Forest Algo ROC AUC:\", roc_auc_score(y_test, clf.predict_proba(X_test)[:, 1]))"
   ]
  },
  {
   "cell_type": "code",
   "execution_count": 24,
   "id": "b7f0e243",
   "metadata": {},
   "outputs": [
    {
     "name": "stdout",
     "output_type": "stream",
     "text": [
      "Confusion matrix:\n",
      " [[1170    4]\n",
      " [  51    2]]\n"
     ]
    },
    {
     "name": "stderr",
     "output_type": "stream",
     "text": [
      "C:\\Users\\ljacquesdedixmude\\AppData\\Local\\Temp\\ipykernel_16716\\17131138.py:9: UserWarning: FixedFormatter should only be used together with FixedLocator\n",
      "  ax.set_xticklabels([''] + labels)\n",
      "C:\\Users\\ljacquesdedixmude\\AppData\\Local\\Temp\\ipykernel_16716\\17131138.py:10: UserWarning: FixedFormatter should only be used together with FixedLocator\n",
      "  ax.set_yticklabels([''] + labels)\n"
     ]
    },
    {
     "data": {
      "text/plain": [
       "Text(0, 0.5, 'Expected')"
      ]
     },
     "execution_count": 24,
     "metadata": {},
     "output_type": "execute_result"
    },
    {
     "data": {
      "image/png": "[encoded data removed]",
      "text/plain": [
       "<Figure size 432x288 with 2 Axes>"
      ]
     },
     "metadata": {
      "needs_background": "light"
     },
     "output_type": "display_data"
    }
   ],
   "source": [
    "conf_mat = confusion_matrix(y_true=y_test, y_pred=clf.predict(X_test))\n",
    "print('Confusion matrix:\\n', conf_mat)\n",
    "\n",
    "labels = ['0', '1']\n",
    "fig = plt.figure()\n",
    "ax = fig.add_subplot(111)\n",
    "cax = ax.matshow(conf_mat, cmap=plt.cm.Blues)\n",
    "fig.colorbar(cax)\n",
    "ax.set_xticklabels([''] + labels)\n",
    "ax.set_yticklabels([''] + labels)\n",
    "plt.xlabel('Predicted')\n",
    "plt.ylabel('Expected')"
   ]
  },
  {
   "cell_type": "markdown",
   "id": "4f56a500",
   "metadata": {},
   "source": [
    "## Grid search for Hyperparameters tuning"
   ]
  },
  {
   "cell_type": "code",
   "execution_count": 36,
   "id": "5958755d",
   "metadata": {},
   "outputs": [
    {
     "name": "stdout",
     "output_type": "stream",
     "text": [
      "{'n_estimators': [100, 200, 300, 400], 'max_features': ['sqrt', 'log2', 'auto'], 'max_depth': [1, 2, 3, 4, 5], 'min_samples_split': [2, 4, 8, 15, 20], 'min_samples_leaf': [1, 2, 4, 8, 10, 20, 30, 40, 50], 'learning_rate': [0.001, 0.002, 0.005, 0.01, 0.02]}\n"
     ]
    }
   ],
   "source": [
    "n_estimators = [100,200,300,400]\n",
    "max_features = ['sqrt','log2','auto']\n",
    "max_depth = [1,2,3,4,5]\n",
    "min_samples_split = [2,4,8,15,20]\n",
    "min_samples_leaf = [1,2,4,8,10,20,30,40,50]\n",
    "learning_rate = [0.001,0.002,0.005,0.01,0.02]\n",
    "# Create the random grid\n",
    "random_grid = {'n_estimators': n_estimators,\n",
    "               'max_features': max_features,\n",
    "               'max_depth': max_depth,\n",
    "               'min_samples_split': min_samples_split,\n",
    "               'min_samples_leaf': min_samples_leaf,\n",
    "               'learning_rate': learning_rate}\n",
    "print(random_grid)"
   ]
  },
  {
   "cell_type": "code",
   "execution_count": 37,
   "id": "94207642",
   "metadata": {},
   "outputs": [
    {
     "data": {
      "text/plain": [
       "RandomizedSearchCV(cv=3, estimator=GradientBoostingClassifier(), n_iter=100,\n",
       "                   n_jobs=-1,\n",
       "                   param_distributions={'learning_rate': [0.001, 0.002, 0.005,\n",
       "                                                          0.01, 0.02],\n",
       "                                        'max_depth': [1, 2, 3, 4, 5],\n",
       "                                        'max_features': ['sqrt', 'log2',\n",
       "                                                         'auto'],\n",
       "                                        'min_samples_leaf': [1, 2, 4, 8, 10, 20,\n",
       "                                                             30, 40, 50],\n",
       "                                        'min_samples_split': [2, 4, 8, 15, 20],\n",
       "                                        'n_estimators': [100, 200, 300, 400]},\n",
       "                   random_state=0, scoring='roc_auc')"
      ]
     },
     "execution_count": 37,
     "metadata": {},
     "output_type": "execute_result"
    }
   ],
   "source": [
    "clf=GradientBoostingClassifier()\n",
    "from sklearn.model_selection import RandomizedSearchCV\n",
    "clfCV = RandomizedSearchCV(clf, random_grid, random_state=0, n_jobs=-1, cv=3, scoring='roc_auc', n_iter=100)\n",
    "clfCV.fit(X_train, y_train)"
   ]
  },
  {
   "cell_type": "code",
   "execution_count": 38,
   "id": "aa314393",
   "metadata": {},
   "outputs": [
    {
     "name": "stdout",
     "output_type": "stream",
     "text": [
      "Best parameters found:\n",
      " {'n_estimators': 200, 'min_samples_split': 2, 'min_samples_leaf': 8, 'max_features': 'sqrt', 'max_depth': 4, 'learning_rate': 0.01}\n"
     ]
    },
    {
     "data": {
      "text/plain": [
       "0.8408762174150621"
      ]
     },
     "execution_count": 38,
     "metadata": {},
     "output_type": "execute_result"
    }
   ],
   "source": [
    "print('Best parameters found:\\n', clfCV.best_params_)\n",
    "roc_auc_score(y_test, clfCV.predict_proba(X_test)[:, 1])"
   ]
  },
  {
   "cell_type": "code",
   "execution_count": 50,
   "id": "77e28fb1",
   "metadata": {},
   "outputs": [],
   "source": [
    "TestDS = pd.read_csv('testing-stroke.csv')\n",
    "d3 = pd.get_dummies(TestDS, columns = ['Gender', 'Married', 'Employment_Type', 'Urban_Rural', 'Smoker'])\n",
    "d3.insert(8, \"Gender_Other\", 0)\n",
    "d3 = d3.fillna(28.88)\n",
    "d3.drop('id', axis=1, inplace=True)"
   ]
  },
  {
   "cell_type": "code",
   "execution_count": 51,
   "id": "2688fe25",
   "metadata": {},
   "outputs": [
    {
     "name": "stdout",
     "output_type": "stream",
     "text": [
      "                                    id    Stroke\n",
      "0     07d9152e686ddb50c5330f7f9c1c58bc  0.197739\n",
      "1     2f0bf07b716733d56ffa0b68cfe3823f  0.050047\n",
      "2     d63fbf8c3173730f82b150c5ef38b8ff  0.062397\n",
      "3     d96988b88c76419fad9677dcd6adb947  0.011223\n",
      "4     142536b9b535b78e681c11b0195d962f  0.010754\n",
      "...                                ...       ...\n",
      "1017  da6ea77475918a3d83c7e49223d453cc  0.038020\n",
      "1018  8686fa633cfb5f49a0609122b9e4140b  0.026847\n",
      "1019  b294fccdfe95bc7f7dd813216a821a76  0.026849\n",
      "1020  4cabd4062d563c8027e488a337c34d28  0.012628\n",
      "1021  6917e6014aa45687457b8e6cf3713515  0.014612\n",
      "\n",
      "[1022 rows x 2 columns]\n"
     ]
    }
   ],
   "source": [
    "preds = clfCV.predict_proba(d3)[:, 1]\n",
    "preds2 = preds.tolist()\n",
    "resultDF = pd.DataFrame ({'id':testid, 'Stroke':preds2})\n",
    "resultDF.to_csv('GBCresult.csv', index=False)\n",
    "print(resultDF)"
   ]
  },
  {
   "cell_type": "markdown",
   "id": "562d99a6",
   "metadata": {},
   "source": [
    "## We can train the GBC model with best hyperparameter on entire dataset"
   ]
  },
  {
   "cell_type": "code",
   "execution_count": 54,
   "id": "c7e7570b",
   "metadata": {},
   "outputs": [
    {
     "name": "stdout",
     "output_type": "stream",
     "text": [
      "0.8773171407782128\n"
     ]
    }
   ],
   "source": [
    "GBC2 = GradientBoostingClassifier(max_features='sqrt', min_samples_split = 2, min_samples_leaf = 8, n_estimators=200, learning_rate=0.01, max_depth=4)\n",
    "GBC2.fit(X, Y)\n",
    "print(roc_auc_score(y_test, GBC2.predict_proba(X_test)[:, 1]))\n",
    "# Carefull with ROC_AUC interpretation, model is trained on the test set !"
   ]
  },
  {
   "cell_type": "code",
   "execution_count": 55,
   "id": "1dc5d40c",
   "metadata": {},
   "outputs": [],
   "source": [
    "preds = GBC2.predict_proba(d3)[:, 1]\n",
    "preds2 = preds.tolist()\n",
    "resultDF2 = pd.DataFrame ({'id':testid, 'Stroke':preds2})\n",
    "resultDF2.to_csv('GBC2.csv', index=False)"
   ]
  },
  {
   "cell_type": "code",
   "execution_count": null,
   "id": "43e3457d",
   "metadata": {},
   "outputs": [],
   "source": []
  }
 ],
 "metadata": {
  "kernelspec": {
   "display_name": "Python 3.10.7 64-bit",
   "language": "python",
   "name": "python3"
  },
  "language_info": {
   "codemirror_mode": {
    "name": "ipython",
    "version": 3
   },
   "file_extension": ".py",
   "mimetype": "text/x-python",
   "name": "python",
   "nbconvert_exporter": "python",
   "pygments_lexer": "ipython3",
   "version": "3.10.7"
  },
  "vscode": {
   "interpreter": {
    "hash": "d50732da9dc9b823ea0cc995d86e8b1f71341e1f269a0142263e1a46dab28c50"
   }
  }
 },
 "nbformat": 4,
 "nbformat_minor": 5
}
